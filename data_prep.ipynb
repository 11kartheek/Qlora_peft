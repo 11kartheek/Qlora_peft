{
  "nbformat": 4,
  "nbformat_minor": 0,
  "metadata": {
    "colab": {
      "provenance": [],
      "authorship_tag": "ABX9TyMsf65SL0sBH2A/IC7RuQJU",
      "include_colab_link": true
    },
    "kernelspec": {
      "name": "python3",
      "display_name": "Python 3"
    },
    "language_info": {
      "name": "python"
    }
  },
  "cells": [
    {
      "cell_type": "markdown",
      "metadata": {
        "id": "view-in-github",
        "colab_type": "text"
      },
      "source": [
        "<a href=\"https://colab.research.google.com/github/11kartheek/Qlora_peft/blob/main/data_prep.ipynb\" target=\"_parent\"><img src=\"https://colab.research.google.com/assets/colab-badge.svg\" alt=\"Open In Colab\"/></a>"
      ]
    },
    {
      "cell_type": "code",
      "source": [
        "!pip -q install datasets"
      ],
      "metadata": {
        "colab": {
          "base_uri": "https://localhost:8080/"
        },
        "id": "xdNO-MMTzYwH",
        "outputId": "d97f085c-c134-4861-87a2-4a70571fb6c9"
      },
      "execution_count": null,
      "outputs": [
        {
          "output_type": "stream",
          "name": "stdout",
          "text": [
            "\u001b[2K   \u001b[90m━━━━━━━━━━━━━━━━━━━━━━━━━━━━━━━━━━━━━━━━\u001b[0m \u001b[32m527.3/527.3 kB\u001b[0m \u001b[31m2.8 MB/s\u001b[0m eta \u001b[36m0:00:00\u001b[0m\n",
            "\u001b[2K   \u001b[90m━━━━━━━━━━━━━━━━━━━━━━━━━━━━━━━━━━━━━━━━\u001b[0m \u001b[32m116.3/116.3 kB\u001b[0m \u001b[31m5.9 MB/s\u001b[0m eta \u001b[36m0:00:00\u001b[0m\n",
            "\u001b[2K   \u001b[90m━━━━━━━━━━━━━━━━━━━━━━━━━━━━━━━━━━━━━━━━\u001b[0m \u001b[32m39.9/39.9 MB\u001b[0m \u001b[31m20.3 MB/s\u001b[0m eta \u001b[36m0:00:00\u001b[0m\n",
            "\u001b[2K   \u001b[90m━━━━━━━━━━━━━━━━━━━━━━━━━━━━━━━━━━━━━━━━\u001b[0m \u001b[32m134.8/134.8 kB\u001b[0m \u001b[31m5.3 MB/s\u001b[0m eta \u001b[36m0:00:00\u001b[0m\n",
            "\u001b[2K   \u001b[90m━━━━━━━━━━━━━━━━━━━━━━━━━━━━━━━━━━━━━━━━\u001b[0m \u001b[32m194.1/194.1 kB\u001b[0m \u001b[31m7.2 MB/s\u001b[0m eta \u001b[36m0:00:00\u001b[0m\n",
            "\u001b[?25h\u001b[31mERROR: pip's dependency resolver does not currently take into account all the packages that are installed. This behaviour is the source of the following dependency conflicts.\n",
            "cudf-cu12 24.4.1 requires pyarrow<15.0.0a0,>=14.0.1, but you have pyarrow 17.0.0 which is incompatible.\n",
            "ibis-framework 8.0.0 requires pyarrow<16,>=2, but you have pyarrow 17.0.0 which is incompatible.\u001b[0m\u001b[31m\n",
            "\u001b[0m"
          ]
        }
      ]
    },
    {
      "cell_type": "code",
      "source": [
        "import pandas as pd\n",
        "from tqdm import tqdm"
      ],
      "metadata": {
        "id": "GG8v6YwFBEcS"
      },
      "execution_count": 35,
      "outputs": []
    },
    {
      "cell_type": "code",
      "execution_count": 36,
      "metadata": {
        "id": "n__IwGBQzSf4"
      },
      "outputs": [],
      "source": [
        "from datasets import load_dataset\n",
        "\n",
        "dataset_name = \"OpenAssistant/oasst1\""
      ]
    },
    {
      "cell_type": "code",
      "source": [
        "dataset = load_dataset(dataset_name, split=\"train\")"
      ],
      "metadata": {
        "id": "GwjeGv7GzVJX"
      },
      "execution_count": 37,
      "outputs": []
    },
    {
      "cell_type": "code",
      "source": [
        "df = dataset.to_pandas()"
      ],
      "metadata": {
        "id": "qylFsoWAzgFR"
      },
      "execution_count": 73,
      "outputs": []
    },
    {
      "cell_type": "code",
      "source": [
        "df['lang'].unique()"
      ],
      "metadata": {
        "colab": {
          "base_uri": "https://localhost:8080/"
        },
        "id": "FjNgH6KrUvxl",
        "outputId": "b8bf4aa3-b61d-43a7-f478-e2ace1ec2d32"
      },
      "execution_count": 74,
      "outputs": [
        {
          "output_type": "execute_result",
          "data": {
            "text/plain": [
              "array(['en', 'es', 'de', 'ru', 'ja', 'pt-BR', 'ca', 'fr', 'pl', 'vi',\n",
              "       'zh', 'hu', 'ko', 'eu', 'it', 'uk-UA', 'id', 'ar', 'fi', 'tr',\n",
              "       'da', 'th', 'sv', 'cs'], dtype=object)"
            ]
          },
          "metadata": {},
          "execution_count": 74
        }
      ]
    },
    {
      "cell_type": "code",
      "source": [
        "df = df[df['lang']== 'en']"
      ],
      "metadata": {
        "id": "b2tsMUfxUrX4"
      },
      "execution_count": 75,
      "outputs": []
    },
    {
      "cell_type": "code",
      "source": [
        "ids = df['parent_id'].unique()"
      ],
      "metadata": {
        "id": "RTxdYTUY8mkD"
      },
      "execution_count": 78,
      "outputs": []
    },
    {
      "cell_type": "code",
      "source": [
        "m_ids = df['message_id'].unique()"
      ],
      "metadata": {
        "id": "5lsjE_G--HqM"
      },
      "execution_count": 79,
      "outputs": []
    },
    {
      "cell_type": "code",
      "source": [
        "len(m_ids)"
      ],
      "metadata": {
        "colab": {
          "base_uri": "https://localhost:8080/"
        },
        "id": "lcP4CQS0NrLL",
        "outputId": "93fc2e7f-8c4f-4366-86a3-75408f7cd5bb"
      },
      "execution_count": 86,
      "outputs": [
        {
          "output_type": "execute_result",
          "data": {
            "text/plain": [
              "39283"
            ]
          },
          "metadata": {},
          "execution_count": 86
        }
      ]
    },
    {
      "cell_type": "code",
      "source": [
        "parent = train_data.loc[train_data['msg_id'] == '123']"
      ],
      "metadata": {
        "id": "wQIceadbVeAN"
      },
      "execution_count": 116,
      "outputs": []
    },
    {
      "cell_type": "code",
      "source": [
        "df[df['message_id'] == msg]"
      ],
      "metadata": {
        "colab": {
          "base_uri": "https://localhost:8080/",
          "height": 152
        },
        "id": "HQqz4S5DXMVv",
        "outputId": "368770ab-8ef2-428a-bc37-5836a7851ecb"
      },
      "execution_count": 117,
      "outputs": [
        {
          "output_type": "execute_result",
          "data": {
            "text/plain": [
              "                                message_id  \\\n",
              "1340  413a0f66-cdf4-4fda-b71b-7eaa8e1d4475   \n",
              "\n",
              "                                 parent_id  \\\n",
              "1340  d3de5a3a-a67c-4930-84c9-2afc2f43a9f5   \n",
              "\n",
              "                                   user_id                      created_date  \\\n",
              "1340  097aaa4d-bf30-43db-a454-2c525ec772a9  2023-02-10T10:28:48.804709+00:00   \n",
              "\n",
              "                                                   text       role lang  \\\n",
              "1340  Creo que las inteligencias artificiales deberí...  assistant   en   \n",
              "\n",
              "      review_count review_result  deleted  rank  synthetic model_name  \\\n",
              "1340             3         False    False   NaN      False       None   \n",
              "\n",
              "                                               detoxify  \\\n",
              "1340  {'toxicity': 0.000328813650412485, 'severe_tox...   \n",
              "\n",
              "                           message_tree_id        tree_state  \\\n",
              "1340  d3de5a3a-a67c-4930-84c9-2afc2f43a9f5  ready_for_export   \n",
              "\n",
              "                              emojis  \\\n",
              "1340  {'name': ['+1'], 'count': [1]}   \n",
              "\n",
              "                                                 labels  \n",
              "1340  {'name': ['spam', 'fails_task', 'lang_mismatch...  "
            ],
            "text/html": [
              "\n",
              "  <div id=\"df-26b7fe9a-1696-4aeb-ae0f-6827eeb3d4a4\" class=\"colab-df-container\">\n",
              "    <div>\n",
              "<style scoped>\n",
              "    .dataframe tbody tr th:only-of-type {\n",
              "        vertical-align: middle;\n",
              "    }\n",
              "\n",
              "    .dataframe tbody tr th {\n",
              "        vertical-align: top;\n",
              "    }\n",
              "\n",
              "    .dataframe thead th {\n",
              "        text-align: right;\n",
              "    }\n",
              "</style>\n",
              "<table border=\"1\" class=\"dataframe\">\n",
              "  <thead>\n",
              "    <tr style=\"text-align: right;\">\n",
              "      <th></th>\n",
              "      <th>message_id</th>\n",
              "      <th>parent_id</th>\n",
              "      <th>user_id</th>\n",
              "      <th>created_date</th>\n",
              "      <th>text</th>\n",
              "      <th>role</th>\n",
              "      <th>lang</th>\n",
              "      <th>review_count</th>\n",
              "      <th>review_result</th>\n",
              "      <th>deleted</th>\n",
              "      <th>rank</th>\n",
              "      <th>synthetic</th>\n",
              "      <th>model_name</th>\n",
              "      <th>detoxify</th>\n",
              "      <th>message_tree_id</th>\n",
              "      <th>tree_state</th>\n",
              "      <th>emojis</th>\n",
              "      <th>labels</th>\n",
              "    </tr>\n",
              "  </thead>\n",
              "  <tbody>\n",
              "    <tr>\n",
              "      <th>1340</th>\n",
              "      <td>413a0f66-cdf4-4fda-b71b-7eaa8e1d4475</td>\n",
              "      <td>d3de5a3a-a67c-4930-84c9-2afc2f43a9f5</td>\n",
              "      <td>097aaa4d-bf30-43db-a454-2c525ec772a9</td>\n",
              "      <td>2023-02-10T10:28:48.804709+00:00</td>\n",
              "      <td>Creo que las inteligencias artificiales deberí...</td>\n",
              "      <td>assistant</td>\n",
              "      <td>en</td>\n",
              "      <td>3</td>\n",
              "      <td>False</td>\n",
              "      <td>False</td>\n",
              "      <td>NaN</td>\n",
              "      <td>False</td>\n",
              "      <td>None</td>\n",
              "      <td>{'toxicity': 0.000328813650412485, 'severe_tox...</td>\n",
              "      <td>d3de5a3a-a67c-4930-84c9-2afc2f43a9f5</td>\n",
              "      <td>ready_for_export</td>\n",
              "      <td>{'name': ['+1'], 'count': [1]}</td>\n",
              "      <td>{'name': ['spam', 'fails_task', 'lang_mismatch...</td>\n",
              "    </tr>\n",
              "  </tbody>\n",
              "</table>\n",
              "</div>\n",
              "    <div class=\"colab-df-buttons\">\n",
              "\n",
              "  <div class=\"colab-df-container\">\n",
              "    <button class=\"colab-df-convert\" onclick=\"convertToInteractive('df-26b7fe9a-1696-4aeb-ae0f-6827eeb3d4a4')\"\n",
              "            title=\"Convert this dataframe to an interactive table.\"\n",
              "            style=\"display:none;\">\n",
              "\n",
              "  <svg xmlns=\"http://www.w3.org/2000/svg\" height=\"24px\" viewBox=\"0 -960 960 960\">\n",
              "    <path d=\"M120-120v-720h720v720H120Zm60-500h600v-160H180v160Zm220 220h160v-160H400v160Zm0 220h160v-160H400v160ZM180-400h160v-160H180v160Zm440 0h160v-160H620v160ZM180-180h160v-160H180v160Zm440 0h160v-160H620v160Z\"/>\n",
              "  </svg>\n",
              "    </button>\n",
              "\n",
              "  <style>\n",
              "    .colab-df-container {\n",
              "      display:flex;\n",
              "      gap: 12px;\n",
              "    }\n",
              "\n",
              "    .colab-df-convert {\n",
              "      background-color: #E8F0FE;\n",
              "      border: none;\n",
              "      border-radius: 50%;\n",
              "      cursor: pointer;\n",
              "      display: none;\n",
              "      fill: #1967D2;\n",
              "      height: 32px;\n",
              "      padding: 0 0 0 0;\n",
              "      width: 32px;\n",
              "    }\n",
              "\n",
              "    .colab-df-convert:hover {\n",
              "      background-color: #E2EBFA;\n",
              "      box-shadow: 0px 1px 2px rgba(60, 64, 67, 0.3), 0px 1px 3px 1px rgba(60, 64, 67, 0.15);\n",
              "      fill: #174EA6;\n",
              "    }\n",
              "\n",
              "    .colab-df-buttons div {\n",
              "      margin-bottom: 4px;\n",
              "    }\n",
              "\n",
              "    [theme=dark] .colab-df-convert {\n",
              "      background-color: #3B4455;\n",
              "      fill: #D2E3FC;\n",
              "    }\n",
              "\n",
              "    [theme=dark] .colab-df-convert:hover {\n",
              "      background-color: #434B5C;\n",
              "      box-shadow: 0px 1px 3px 1px rgba(0, 0, 0, 0.15);\n",
              "      filter: drop-shadow(0px 1px 2px rgba(0, 0, 0, 0.3));\n",
              "      fill: #FFFFFF;\n",
              "    }\n",
              "  </style>\n",
              "\n",
              "    <script>\n",
              "      const buttonEl =\n",
              "        document.querySelector('#df-26b7fe9a-1696-4aeb-ae0f-6827eeb3d4a4 button.colab-df-convert');\n",
              "      buttonEl.style.display =\n",
              "        google.colab.kernel.accessAllowed ? 'block' : 'none';\n",
              "\n",
              "      async function convertToInteractive(key) {\n",
              "        const element = document.querySelector('#df-26b7fe9a-1696-4aeb-ae0f-6827eeb3d4a4');\n",
              "        const dataTable =\n",
              "          await google.colab.kernel.invokeFunction('convertToInteractive',\n",
              "                                                    [key], {});\n",
              "        if (!dataTable) return;\n",
              "\n",
              "        const docLinkHtml = 'Like what you see? Visit the ' +\n",
              "          '<a target=\"_blank\" href=https://colab.research.google.com/notebooks/data_table.ipynb>data table notebook</a>'\n",
              "          + ' to learn more about interactive tables.';\n",
              "        element.innerHTML = '';\n",
              "        dataTable['output_type'] = 'display_data';\n",
              "        await google.colab.output.renderOutput(dataTable, element);\n",
              "        const docLink = document.createElement('div');\n",
              "        docLink.innerHTML = docLinkHtml;\n",
              "        element.appendChild(docLink);\n",
              "      }\n",
              "    </script>\n",
              "  </div>\n",
              "\n",
              "\n",
              "    </div>\n",
              "  </div>\n"
            ],
            "application/vnd.google.colaboratory.intrinsic+json": {
              "type": "dataframe",
              "repr_error": "0"
            }
          },
          "metadata": {},
          "execution_count": 117
        }
      ]
    },
    {
      "cell_type": "code",
      "source": [
        "df = df.sort_values(by=['created_date'])"
      ],
      "metadata": {
        "id": "bhziTV-R9MI3"
      },
      "execution_count": 118,
      "outputs": []
    },
    {
      "cell_type": "code",
      "source": [
        "train_data = pd.DataFrame(columns=['msg_id','input', 'output','role'])\n",
        "for msg in tqdm(m_ids, desc=\"messages\"):\n",
        "  parent = df[df['message_id'] == msg]['parent_id'].unique()[0]\n",
        "  role = df[df['message_id'] == msg]['role'].unique()[0]\n",
        "  check_len = len(df[df['message_id'] == parent])\n",
        "  if (parent is not None) and check_len > 0 :\n",
        "      parent_text = df[df['message_id'] == parent]['text'].unique()[0]\n",
        "      parent_role = df[df['message_id'] == parent]['role'].unique()[0]\n",
        "      text = df[df['message_id'] == msg]['text'].unique()[0]\n",
        "      check_len = len(train_data.loc[train_data['msg_id'] == parent])\n",
        "      if check_len > 0:\n",
        "        parent_df = train_data.loc[train_data['msg_id'] == parent].reset_index(drop=True)\n",
        "        parent_input = parent_df['input'][0]\n",
        "        parent_output = parent_df['output'][0]\n",
        "        parent_prompt = parent_input + parent_output\n",
        "        train_data = pd.concat([train_data,pd.DataFrame({'msg_id': msg,'input': parent_prompt, 'output': role+\":\\n\"+text, 'role': role},index=[0])],ignore_index=True).reset_index(drop=True)\n",
        "      else:\n",
        "        train_data = pd.concat([train_data,pd.DataFrame({'msg_id': msg,'input': parent_role +\":\\n\"+parent_text, 'output': role+\":\\n\"+text, 'role': role},index=[0])],ignore_index=True).reset_index(drop=True)\n",
        "  else:\n",
        "      text = df[df['message_id'] == msg]['text'].unique()[0]\n",
        "\n",
        "      train_data = pd.concat([train_data,pd.DataFrame({'msg_id': msg,'input': \"\", 'output': role+\":\\n\"+text, 'role': role},index=[0])],ignore_index=True).reset_index(drop=True)\n",
        "\n",
        "#"
      ],
      "metadata": {
        "id": "LLpxZiLY9jzd",
        "colab": {
          "base_uri": "https://localhost:8080/"
        },
        "outputId": "9983c52c-f397-4117-9661-31cb7fd87dad"
      },
      "execution_count": 120,
      "outputs": [
        {
          "output_type": "stream",
          "name": "stderr",
          "text": [
            "messages: 100%|██████████| 39283/39283 [38:25<00:00, 17.04it/s]\n"
          ]
        }
      ]
    },
    {
      "cell_type": "code",
      "source": [
        "train_data.shape"
      ],
      "metadata": {
        "colab": {
          "base_uri": "https://localhost:8080/"
        },
        "id": "ull5mDpWich2",
        "outputId": "6f700518-ce54-4e6d-b5ce-90affdd8222f"
      },
      "execution_count": 122,
      "outputs": [
        {
          "output_type": "execute_result",
          "data": {
            "text/plain": [
              "(39283, 4)"
            ]
          },
          "metadata": {},
          "execution_count": 122
        }
      ]
    },
    {
      "cell_type": "code",
      "source": [
        "train_data.to_csv('train_data.csv',index=False)"
      ],
      "metadata": {
        "id": "r6qXa6B1DkpZ"
      },
      "execution_count": 121,
      "outputs": []
    },
    {
      "cell_type": "code",
      "source": [
        "train_data.value_counts('role')"
      ],
      "metadata": {
        "id": "871jufcsFZrm",
        "colab": {
          "base_uri": "https://localhost:8080/",
          "height": 178
        },
        "outputId": "f71b1f33-9f59-4bb5-d550-dff32a398571"
      },
      "execution_count": 135,
      "outputs": [
        {
          "output_type": "execute_result",
          "data": {
            "text/plain": [
              "role\n",
              "assistant    24083\n",
              "prompter     15200\n",
              "Name: count, dtype: int64"
            ],
            "text/html": [
              "<div>\n",
              "<style scoped>\n",
              "    .dataframe tbody tr th:only-of-type {\n",
              "        vertical-align: middle;\n",
              "    }\n",
              "\n",
              "    .dataframe tbody tr th {\n",
              "        vertical-align: top;\n",
              "    }\n",
              "\n",
              "    .dataframe thead th {\n",
              "        text-align: right;\n",
              "    }\n",
              "</style>\n",
              "<table border=\"1\" class=\"dataframe\">\n",
              "  <thead>\n",
              "    <tr style=\"text-align: right;\">\n",
              "      <th></th>\n",
              "      <th>count</th>\n",
              "    </tr>\n",
              "    <tr>\n",
              "      <th>role</th>\n",
              "      <th></th>\n",
              "    </tr>\n",
              "  </thead>\n",
              "  <tbody>\n",
              "    <tr>\n",
              "      <th>assistant</th>\n",
              "      <td>24083</td>\n",
              "    </tr>\n",
              "    <tr>\n",
              "      <th>prompter</th>\n",
              "      <td>15200</td>\n",
              "    </tr>\n",
              "  </tbody>\n",
              "</table>\n",
              "</div><br><label><b>dtype:</b> int64</label>"
            ]
          },
          "metadata": {},
          "execution_count": 135
        }
      ]
    },
    {
      "cell_type": "code",
      "source": [],
      "metadata": {
        "id": "y72nGZbSj7dM"
      },
      "execution_count": null,
      "outputs": []
    },
    {
      "cell_type": "code",
      "source": [
        "train_data['input'][2]"
      ],
      "metadata": {
        "colab": {
          "base_uri": "https://localhost:8080/",
          "height": 191
        },
        "id": "fs_rdqwnTuBc",
        "outputId": "a55a3e31-2d6d-4037-eed0-fc3c0ead617f"
      },
      "execution_count": 128,
      "outputs": [
        {
          "output_type": "execute_result",
          "data": {
            "text/plain": [
              "'prompter:\\nCan you write a short introduction about the relevance of the term \"monopsony\" in economics? Please use examples related to potential monopsonies in the labour market and cite relevant research.assistant:\\n\"Monopsony\" refers to a market structure where there is only one buyer for a particular good or service. In economics, this term is particularly relevant in the labor market, where a monopsony employer has significant power over the wages and working conditions of their employees. The presence of a monopsony can result in lower wages and reduced employment opportunities for workers, as the employer has little incentive to increase wages or provide better working conditions.\\n\\nRecent research has identified potential monopsonies in industries such as retail and fast food, where a few large companies control a significant portion of the market (Bivens & Mishel, 2013). In these industries, workers often face low wages, limited benefits, and reduced bargaining power, leading to a situation where they are dependent on the employer for their livelihood. This dependence can result in further suppression of wages and a decline in working conditions.\\n\\nOverall, the concept of monopsony is essential to understanding the dynamics of labor markets and the impact of market power on workers. Further research is needed to understand the extent and impact of monopsonies on the economy and to develop policies to address this issue.\\n\\nReferences:\\nBivens, J., & Mishel, L. (2013). The Pay of Corporate Executives and Financial Professionals as Evidence of Rents in Top 1 Percent Incomes. Journal of Economic Perspectives, 27(3), 57-78.'"
            ],
            "application/vnd.google.colaboratory.intrinsic+json": {
              "type": "string"
            }
          },
          "metadata": {},
          "execution_count": 128
        }
      ]
    },
    {
      "cell_type": "code",
      "source": [
        "train_df = pd.read_csv('train_data.csv')"
      ],
      "metadata": {
        "id": "A-ttNNGCTzsE"
      },
      "execution_count": 136,
      "outputs": []
    },
    {
      "cell_type": "code",
      "source": [
        "train_df = train_df.loc[train_df['role'] == 'assistant']"
      ],
      "metadata": {
        "id": "AK3ydycKjSqA"
      },
      "execution_count": 138,
      "outputs": []
    },
    {
      "cell_type": "code",
      "source": [
        "train_df.isnull().sum()"
      ],
      "metadata": {
        "colab": {
          "base_uri": "https://localhost:8080/",
          "height": 209
        },
        "id": "f_gf7vCCki6h",
        "outputId": "d7100feb-5faf-432a-da8f-acccd8e59a86"
      },
      "execution_count": 139,
      "outputs": [
        {
          "output_type": "execute_result",
          "data": {
            "text/plain": [
              "msg_id     0\n",
              "input     81\n",
              "output     0\n",
              "role       0\n",
              "dtype: int64"
            ],
            "text/html": [
              "<div>\n",
              "<style scoped>\n",
              "    .dataframe tbody tr th:only-of-type {\n",
              "        vertical-align: middle;\n",
              "    }\n",
              "\n",
              "    .dataframe tbody tr th {\n",
              "        vertical-align: top;\n",
              "    }\n",
              "\n",
              "    .dataframe thead th {\n",
              "        text-align: right;\n",
              "    }\n",
              "</style>\n",
              "<table border=\"1\" class=\"dataframe\">\n",
              "  <thead>\n",
              "    <tr style=\"text-align: right;\">\n",
              "      <th></th>\n",
              "      <th>0</th>\n",
              "    </tr>\n",
              "  </thead>\n",
              "  <tbody>\n",
              "    <tr>\n",
              "      <th>msg_id</th>\n",
              "      <td>0</td>\n",
              "    </tr>\n",
              "    <tr>\n",
              "      <th>input</th>\n",
              "      <td>81</td>\n",
              "    </tr>\n",
              "    <tr>\n",
              "      <th>output</th>\n",
              "      <td>0</td>\n",
              "    </tr>\n",
              "    <tr>\n",
              "      <th>role</th>\n",
              "      <td>0</td>\n",
              "    </tr>\n",
              "  </tbody>\n",
              "</table>\n",
              "</div><br><label><b>dtype:</b> int64</label>"
            ]
          },
          "metadata": {},
          "execution_count": 139
        }
      ]
    },
    {
      "cell_type": "code",
      "source": [
        "train_df.dropna(inplace=True)"
      ],
      "metadata": {
        "id": "iveOIUOWkpN5"
      },
      "execution_count": 140,
      "outputs": []
    },
    {
      "cell_type": "code",
      "source": [
        "train_df['input_length'] = train_df['input'].apply(lambda x: len(x))"
      ],
      "metadata": {
        "id": "nyp3tfiKky2O"
      },
      "execution_count": 141,
      "outputs": []
    },
    {
      "cell_type": "code",
      "source": [
        "train_df['input_length'].describe()"
      ],
      "metadata": {
        "colab": {
          "base_uri": "https://localhost:8080/",
          "height": 335
        },
        "id": "7WNCN6dglFyH",
        "outputId": "4d184ae0-58fc-458f-f688-de84945b71c5"
      },
      "execution_count": 142,
      "outputs": [
        {
          "output_type": "execute_result",
          "data": {
            "text/plain": [
              "count    24002.000000\n",
              "mean       694.669278\n",
              "std        876.283353\n",
              "min         12.000000\n",
              "25%        101.000000\n",
              "50%        335.000000\n",
              "75%       1014.000000\n",
              "max      12626.000000\n",
              "Name: input_length, dtype: float64"
            ],
            "text/html": [
              "<div>\n",
              "<style scoped>\n",
              "    .dataframe tbody tr th:only-of-type {\n",
              "        vertical-align: middle;\n",
              "    }\n",
              "\n",
              "    .dataframe tbody tr th {\n",
              "        vertical-align: top;\n",
              "    }\n",
              "\n",
              "    .dataframe thead th {\n",
              "        text-align: right;\n",
              "    }\n",
              "</style>\n",
              "<table border=\"1\" class=\"dataframe\">\n",
              "  <thead>\n",
              "    <tr style=\"text-align: right;\">\n",
              "      <th></th>\n",
              "      <th>input_length</th>\n",
              "    </tr>\n",
              "  </thead>\n",
              "  <tbody>\n",
              "    <tr>\n",
              "      <th>count</th>\n",
              "      <td>24002.000000</td>\n",
              "    </tr>\n",
              "    <tr>\n",
              "      <th>mean</th>\n",
              "      <td>694.669278</td>\n",
              "    </tr>\n",
              "    <tr>\n",
              "      <th>std</th>\n",
              "      <td>876.283353</td>\n",
              "    </tr>\n",
              "    <tr>\n",
              "      <th>min</th>\n",
              "      <td>12.000000</td>\n",
              "    </tr>\n",
              "    <tr>\n",
              "      <th>25%</th>\n",
              "      <td>101.000000</td>\n",
              "    </tr>\n",
              "    <tr>\n",
              "      <th>50%</th>\n",
              "      <td>335.000000</td>\n",
              "    </tr>\n",
              "    <tr>\n",
              "      <th>75%</th>\n",
              "      <td>1014.000000</td>\n",
              "    </tr>\n",
              "    <tr>\n",
              "      <th>max</th>\n",
              "      <td>12626.000000</td>\n",
              "    </tr>\n",
              "  </tbody>\n",
              "</table>\n",
              "</div><br><label><b>dtype:</b> float64</label>"
            ]
          },
          "metadata": {},
          "execution_count": 142
        }
      ]
    },
    {
      "cell_type": "code",
      "source": [
        "print(train_df.sort_values(by = 'input_length',ascending = False).reset_index(drop=True)['input'][0])"
      ],
      "metadata": {
        "colab": {
          "base_uri": "https://localhost:8080/"
        },
        "id": "XuO8Ukp3lLsh",
        "outputId": "501d3700-247d-4f98-81e0-712682f54514"
      },
      "execution_count": 145,
      "outputs": [
        {
          "output_type": "stream",
          "name": "stdout",
          "text": [
            "prompter:\n",
            "please generate the code to leverage azure java sdk to process ChangeFeed of Cosmos DB NoSQL.assistant:\n",
            "Here is a sample code to process the Change Feed of a Cosmos DB NoSQL database using the Azure Java SDK:\n",
            "\n",
            "import com.microsoft.azure.cosmosdb.ChangeFeedOptions;\n",
            "import com.microsoft.azure.cosmosdb.ChangeFeedProcessor;\n",
            "import com.microsoft.azure.cosmosdb.ChangeFeedProcessorBuilder;\n",
            "import com.microsoft.azure.cosmosdb.ConnectionPolicy;\n",
            "import com.microsoft.azure.cosmosdb.ConsistencyLevel;\n",
            "import com.microsoft.azure.cosmosdb.DocumentClient;\n",
            "import com.microsoft.azure.cosmosdb.DocumentClientException;\n",
            "import com.microsoft.azure.cosmosdb.DocumentCollection;\n",
            "import com.microsoft.azure.cosmosdb.FeedOptions;\n",
            "import com.microsoft.azure.cosmosdb.FeedResponse;\n",
            "import com.microsoft.azure.cosmosdb.ResourceResponse;\n",
            "import com.microsoft.azure.cosmosdb.internal.directconnectivity.WFConstants;\n",
            "\n",
            "import java.util.UUID;\n",
            "\n",
            "public class CosmosDbChangeFeedProcessor {\n",
            "  private static final String DATABASE_ID = \"databaseId\";\n",
            "  private static final String COLLECTION_ID = \"collectionId\";\n",
            "  private static final String END_POINT_URI = \"https://<your_cosmosdb_account_name>.documents.azure.com:443/\";\n",
            "  private static final String PRIMARY_KEY = \"<your_primary_key>\";\n",
            "\n",
            "  public static void main(String[] args) {\n",
            "    // Create a DocumentClient instance\n",
            "    DocumentClient documentClient = new DocumentClient(END_POINT_URI, PRIMARY_KEY,\n",
            "        ConnectionPolicy.GetDefault(), ConsistencyLevel.Session);\n",
            "\n",
            "    try {\n",
            "      // Get the reference to the database and collection\n",
            "      DocumentCollection collection = documentClient\n",
            "          .readCollection(String.format(\"/dbs/%s/colls/%s\", DATABASE_ID, COLLECTION_ID), null)\n",
            "          .getResource();\n",
            "\n",
            "      // Define the ChangeFeedOptions\n",
            "      ChangeFeedOptions changeFeedOptions = new ChangeFeedOptions();\n",
            "      changeFeedOptions.setPartitionKeyRangeId(WFConstants.NoPartition);\n",
            "      changeFeedOptions.setStartFromBeginning(true);\n",
            "\n",
            "      // Define the ChangeFeedProcessor options\n",
            "      ChangeFeedProcessorOptions changeFeedProcessorOptions = new ChangeFeedProcessorOptions();\n",
            "      changeFeedProcessorOptions.setLeasePrefix(\"myChangeFeed\");\n",
            "\n",
            "      // Define the ChangeFeedProcessor\n",
            "      ChangeFeedProcessor changeFeedProcessor = new ChangeFeedProcessorBuilder()\n",
            "          .withDocumentClient(documentClient)\n",
            "          .withFeedCollection(collection)\n",
            "          .withProcessorOptions(changeFeedProcessorOptions)\n",
            "          .withHandleChanges((List<Document> docs, CancellationToken cancellationToken) -> {\n",
            "            // Process the changes\n",
            "            for (Document doc : docs) {\n",
            "              System.out.println(\"Change: \" + doc.toJson());\n",
            "            }\n",
            "          }).build();\n",
            "\n",
            "      // Start the ChangeFeedProcessor\n",
            "      changeFeedProcessor.start();\n",
            "    } catch (DocumentClientException e) {\n",
            "      System.err.println(\"An error occurred while processing the Change Feed: \" + e);\n",
            "    }\n",
            "  }\n",
            "}prompter:\n",
            "Can you move the change handler into a separate function?assistant:\n",
            "Sure, here's an example of how you can move the change handler into a separate function:\n",
            "\n",
            "```java\n",
            "import com.microsoft.azure.cosmosdb.ChangeFeedOptions;\n",
            "import com.microsoft.azure.cosmosdb.ChangeFeedProcessor;\n",
            "import com.microsoft.azure.cosmosdb.ChangeFeedProcessorBuilder;\n",
            "import com.microsoft.azure.cosmosdb.ConnectionPolicy;\n",
            "import com.microsoft.azure.cosmosdb.ConsistencyLevel;\n",
            "import com.microsoft.azure.cosmosdb.DocumentClient;\n",
            "import com.microsoft.azure.cosmosdb.DocumentClientException;\n",
            "import com.microsoft.azure.cosmosdb.DocumentCollection;\n",
            "import com.microsoft.azure.cosmosdb.internal.directconnectivity.WFConstants;\n",
            "\n",
            "import java.util.List;\n",
            "import java.util.concurrent.CancellationToken;\n",
            "\n",
            "public class CosmosDbChangeFeedProcessor {\n",
            "  private static final String DATABASE_ID = \"databaseId\";\n",
            "  private static final String COLLECTION_ID = \"collectionId\";\n",
            "  private static final String END_POINT_URI = \"https://<your_cosmosdb_account_name>.documents.azure.com:443/\";\n",
            "  private static final String PRIMARY_KEY = \"<your_primary_key>\";\n",
            "\n",
            "  public static void main(String[] args) {\n",
            "    // Create a DocumentClient instance\n",
            "    DocumentClient documentClient = new DocumentClient(END_POINT_URI, PRIMARY_KEY,\n",
            "        ConnectionPolicy.GetDefault(), ConsistencyLevel.Session);\n",
            "\n",
            "    try {\n",
            "      // Get the reference to the database and collection\n",
            "      DocumentCollection collection = documentClient\n",
            "          .readCollection(String.format(\"/dbs/%s/colls/%s\", DATABASE_ID, COLLECTION_ID), null)\n",
            "          .getResource();\n",
            "\n",
            "      // Define the ChangeFeedOptions\n",
            "      ChangeFeedOptions changeFeedOptions = new ChangeFeedOptions();\n",
            "      changeFeedOptions.setPartitionKeyRangeId(WFConstants.NoPartition);\n",
            "      changeFeedOptions.setStartFromBeginning(true);\n",
            "\n",
            "      // Define the ChangeFeedProcessor options\n",
            "      ChangeFeedProcessorOptions changeFeedProcessorOptions = new ChangeFeedProcessorOptions();\n",
            "      changeFeedProcessorOptions.setLeasePrefix(\"myChangeFeed\");\n",
            "\n",
            "      // Define the ChangeFeedProcessor\n",
            "      ChangeFeedProcessor changeFeedProcessor = new ChangeFeedProcessorBuilder()\n",
            "          .withDocumentClient(documentClient)\n",
            "          .withFeedCollection(collection)\n",
            "          .withProcessorOptions(changeFeedProcessorOptions)\n",
            "          .withHandleChanges(CosmosDbChangeFeedProcessor::processChanges)\n",
            "          .build();\n",
            "\n",
            "      // Start the ChangeFeedProcessor\n",
            "      changeFeedProcessor.start();\n",
            "    } catch (DocumentClientException e) {\n",
            "      System.err.println(\"An error occurred while processing the Change Feed: \" + e);\n",
            "    }\n",
            "  }\n",
            "\n",
            "  private static void processChanges(List<Document> docs, CancellationToken cancellationToken) {\n",
            "    // Process the changes\n",
            "    for (Document doc : docs) {\n",
            "      System.out.println(\"Change: \" + doc.toJson());\n",
            "    }\n",
            "  }\n",
            "}\n",
            "```prompter:\n",
            "\"\n",
            "Add error handling and logging to handle exceptions and log events during the change feed processing.\n",
            "Use configuration files or environment variables to store the database, collection, endpoint, and primary key information.\n",
            "Implement batch processing for the changes, to reduce the number of requests to the database.\n",
            "Implement a retry mechanism for failed operations.\n",
            "Add a monitoring and reporting system to track the progress and status of the change feed processing.\n",
            "Use multithreading or parallel processing to increase performance.\n",
            "Use a database connection pool to reuse database connections.\n",
            "Implement a checkpoint mechanism to persist the processing progress in case of failures.\n",
            "Implement a partitioned change feed processing for horizontal scaling.\n",
            "Implement a load balancing mechanism to distribute the processing load among multiple instances.\n",
            "Implement a caching mechanism to reduce the number of database queries.\n",
            "Use a message queue to handle the changes before processing them.\n",
            "Use a logging database to persist the change history and audit trail.\n",
            "Implement security measures such as encryption, authentication, and authorization.\n",
            "Use a content delivery network (CDN) to cache the data closer to the user.\n",
            "Use a search engine to index the changes and make them searchable.\n",
            "Use a reverse proxy to cache and distribute the incoming requests.\n",
            "Use a load balancer to distribute the incoming requests to multiple instances.\n",
            "Use a reverse proxy to cache and distribute the outgoing responses.\n",
            "Use a load balancer to distribute the outgoing responses to multiple instances.\n",
            "Use a middleware layer to perform additional operations on the changes before processing them.\n",
            "Use a service mesh to handle service-to-service communication and routing.\n",
            "Use a service discovery mechanism to dynamically discover the service instances.\n",
            "Use a circuit breaker pattern to handle failures gracefully.\n",
            "Use a health check mechanism to monitor the health of the service instances.\n",
            "Use a service mesh to perform mutual TLS authentication and encryption between services.\n",
            "Use a service mesh to handle service-to-service load balancing.\n",
            "Use a service mesh to handle service-to-service retries and timeouts.\n",
            "Use a service mesh to handle service-to-service rate limiting and quotas.\n",
            "Use a service mesh to perform observability, monitoring, and tracing of service-to-service communication.\n",
            "Use a service mesh to perform service-to-service traffic shifting and canary releases.\n",
            "Use a service mesh to perform service-to-service policy enforcement.\n",
            "Use a service mesh to perform service-to-service telemetry and analytics.\n",
            "Use a service mesh to perform service-to-service security and compliance.\n",
            "Use a service mesh to perform service-to-service infrastructure integration and orchestration.\n",
            "Use a service mesh to perform service-to-service infrastructure provisioning and configuration.\n",
            "Use a service mesh to perform service-to-service infrastructure maintenance and upgrades.\n",
            "Use a service mesh to perform service-to-service infrastructure scaling and resiliency.\n",
            "Use a service mesh to perform service-to-service infrastructure monitoring and debugging.\n",
            "Use a service mesh to perform service-to-service infrastructure management and reporting.\n",
            "Use a service mesh to perform service-to-service infrastructure logging and auditing.\n",
            "Use a service mesh to perform service-to-service infrastructure security and compliance.\n",
            "Add logging to log errors and other important events that occur during the execution of the program.\n",
            "Use a configuration file to store the connection details, database and collection IDs, and other parameters, to make the code more modular and easily configurable.\n",
            "Implement a mechanism to handle exceptions and errors, such as retrying failed operations, logging errors, and providing detailed error messages to the user.\n",
            "Add unit tests to validate the functionality of the code, especially the handleChanges method, to ensure that it works as expected.\n",
            "Use a message broker, such as Apache Kafka, to buffer and distribute the changes, to provide resiliency and scalability.\n",
            "Use a load balancer, such as Apache Nginx, to distribute the load across multiple instances of the Change Feed Processor, to provide high availability and performance.\n",
            "Use a caching layer, such as Redis, to cache frequently accessed data, to reduce the latency and improve the performance of the program.\n",
            "Use a monitoring solution, such as Prometheus, to monitor the performance and health of the program, to quickly detect and respond to issues.\n",
            "Use a security solution, such as OAuth2, to secure the access to the Azure Cosmos DB and the program, to prevent unauthorized access.\n",
            "Use a containerization solution, such as Docker, to package the program and its dependencies into a portable and reproducible environment, to simplify deployment and management.\n",
            "Use a continuous integration/continuous delivery (CI/CD) pipeline, such as Jenkins, to automate the build, test, and deployment of the program, to increase the efficiency and reliability of the development process.\n",
            "Use a version control system, such as Git, to manage the source code and collaborate with other developers, to keep track of changes and maintain a history of the development process.\n",
            "Use a static code analysis tool, such as SonarQube, to detect and prevent security vulnerabilities, bugs, and code smells, to improve the quality of the code.\n",
            "Use a dynamic code analysis tool, such as JUnit, to validate the functionality of the code and detect issues early in the development process, to improve the reliability of the code.\n",
            "Use a performance analysis tool, such as JProfiler, to analyze the performance of the program and identify performance bottlenecks, to optimize the performance of the program.\n",
            "Use a memory analysis tool, such as JConsole, to monitor the memory usage of the program and identify memory leaks, to optimize the memory usage of the program.\n",
            "Use a load testing tool, such as Apache JMeter, to validate the performance and scalability of the program under heavy load, to ensure that it meets the required performance and scalability criteria.\n",
            "Use a cloud-based solution, such as Amazon Web Services (AWS) or Google Cloud Platform (GCP), to host the program and its dependencies, to simplify deployment and management.\n",
            "Use a database management solution, such as Apache Cassandra or Amazon DynamoDB, to store the data, to provide high availability and performance.\n",
            "Use a data processing solution, such as Apache Spark or Apache Flink, to process the changes in parallel and at scale, to improve the performance of the program.\n",
            "Use a data visualization solution, such as Tableau or PowerBI, to visualize the changes and monitor the performance and health of the program, to provide insights into the behavior of the program.\n",
            "Use a machine learning solution etc. \n",
            "\"\n"
          ]
        }
      ]
    },
    {
      "cell_type": "code",
      "source": [
        "train_df.to_csv('train_data_filtered.csv',index=False)"
      ],
      "metadata": {
        "id": "vsUke-UrlYPY"
      },
      "execution_count": 146,
      "outputs": []
    },
    {
      "cell_type": "code",
      "source": [],
      "metadata": {
        "id": "Szl8L_8SpzEL"
      },
      "execution_count": null,
      "outputs": []
    }
  ]
}